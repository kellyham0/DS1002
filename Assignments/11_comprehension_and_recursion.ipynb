{
  "nbformat": 4,
  "nbformat_minor": 0,
  "metadata": {
    "colab": {
      "provenance": [],
      "include_colab_link": true
    },
    "kernelspec": {
      "name": "python3",
      "display_name": "Python 3"
    },
    "language_info": {
      "name": "python"
    }
  },
  "cells": [
    {
      "cell_type": "markdown",
      "metadata": {
        "id": "view-in-github",
        "colab_type": "text"
      },
      "source": [
        "<a href=\"https://colab.research.google.com/github/kellyham0/DS1002/blob/main/Assignments/11_comprehension_and_recursion.ipynb\" target=\"_parent\"><img src=\"https://colab.research.google.com/assets/colab-badge.svg\" alt=\"Open In Colab\"/></a>"
      ]
    },
    {
      "cell_type": "markdown",
      "source": [
        "## Assignment 11\n",
        "Due Monday 15 April at noon"
      ],
      "metadata": {
        "id": "y6mGkyWrqph3"
      }
    },
    {
      "cell_type": "markdown",
      "source": [
        "### List comprehension\n",
        "\n",
        "Many of you resisted my recommendation to use list comprehensions in the previous assignment, and so my hand is forced.  You made me require it.\n",
        "\n",
        "\n",
        "Problem 1.  For each function you write below, you may assume the list being sent to the function will contain the appropriate data type.\n",
        "\n",
        "Use list comprehensions to create a function that will take a list `l` and return . . ."
      ],
      "metadata": {
        "id": "eBJulsWBngse"
      }
    },
    {
      "cell_type": "markdown",
      "source": [
        "(a) . . . a list containing the absolute value of each element of `l`"
      ],
      "metadata": {
        "id": "1h4hKDEqo5T_"
      }
    },
    {
      "cell_type": "code",
      "source": [
        "example = [1,2,-3,5,-8] #List to test the function\n",
        "def absolutes(l): #A function that will create a new empty list, then add the absolute value of every item in the input list to the empty list\n",
        "  absolute_list = []\n",
        "  for i in l:\n",
        "    absolute_list.append(abs(i))\n",
        "  print(absolute_list)\n",
        "absolutes(example)"
      ],
      "metadata": {
        "id": "LNltsHhtngLS",
        "outputId": "a6813020-5614-4b4a-9134-5da820054a15",
        "colab": {
          "base_uri": "https://localhost:8080/"
        }
      },
      "execution_count": 4,
      "outputs": [
        {
          "output_type": "stream",
          "name": "stdout",
          "text": [
            "[1, 2, 3, 5, 8]\n"
          ]
        }
      ]
    },
    {
      "cell_type": "markdown",
      "source": [
        "(b) . . . a list containing `True` for each even number in `l` and `False` for each odd number in `l`"
      ],
      "metadata": {
        "id": "mqIbzaTvpLCV"
      }
    },
    {
      "cell_type": "code",
      "source": [
        "def true_false(l):  #Takes a list and returns a list denoting True for even numbers and False for odd numbers\n",
        "  true_false_list = []\n",
        "  for i in l:\n",
        "    if i%2 == 0:\n",
        "      true_false_list.append('True')\n",
        "    else:\n",
        "      true_false_list.append('False')\n",
        "  print(true_false_list)\n",
        "true_false(example)"
      ],
      "metadata": {
        "id": "0OTpQFX9pK0t",
        "outputId": "a95cc8dd-370f-44b0-bf06-331af18eaba5",
        "colab": {
          "base_uri": "https://localhost:8080/"
        }
      },
      "execution_count": 11,
      "outputs": [
        {
          "output_type": "stream",
          "name": "stdout",
          "text": [
            "['False', 'True', 'False', 'False', 'True']\n"
          ]
        }
      ]
    },
    {
      "cell_type": "markdown",
      "source": [
        "(c) . . . a list containing only the numbers in `l` that are divisible by 3"
      ],
      "metadata": {
        "id": "9yqVg2hApUY9"
      }
    },
    {
      "cell_type": "code",
      "source": [
        "def three_divisible(l): #Takes a list and returns a list containing only the numbers that are divisible by three\n",
        "  three_divisible_list = []\n",
        "  for i in l:\n",
        "    if i%3 == 0:\n",
        "      three_divisible_list.append(i)\n",
        "  print(three_divisible_list)\n",
        "three_divisible(example)"
      ],
      "metadata": {
        "id": "2mP_1aYZpUF4",
        "outputId": "6f9687eb-ab15-4bba-be04-47b586f62692",
        "colab": {
          "base_uri": "https://localhost:8080/"
        }
      },
      "execution_count": 14,
      "outputs": [
        {
          "output_type": "stream",
          "name": "stdout",
          "text": [
            "[-3]\n"
          ]
        }
      ]
    },
    {
      "cell_type": "markdown",
      "source": [
        "(d) . . . a list containing only the words in `l` whose first and last letters are the same"
      ],
      "metadata": {
        "id": "2yClgYZupef1"
      }
    },
    {
      "cell_type": "code",
      "source": [
        "example2 = ['learn','flight','lull','eve','dinosaur','roar']\n",
        "def matching_first_last(l): #takes a list of words and returns a new list containing only words that start and end with the same letter\n",
        "  matching_list = []\n",
        "  for i in l:\n",
        "    if i[0]==i[-1]:\n",
        "      matching_list.append(i)\n",
        "  print(matching_list)\n",
        "matching_first_last(example2)"
      ],
      "metadata": {
        "id": "-l7XnemMpeCi",
        "outputId": "352d2473-c471-41bb-c658-f0f1c8a04f0d",
        "colab": {
          "base_uri": "https://localhost:8080/"
        }
      },
      "execution_count": 16,
      "outputs": [
        {
          "output_type": "stream",
          "name": "stdout",
          "text": [
            "['lull', 'eve', 'roar']\n"
          ]
        }
      ]
    },
    {
      "cell_type": "markdown",
      "source": [
        "(e) . . . a list containing the first letter of each word in `l` that ends with a vowel"
      ],
      "metadata": {
        "id": "1mqMysFKppZS"
      }
    },
    {
      "cell_type": "code",
      "source": [
        "def vowel_end(l): #Takes a list and returns a list containing the first letter of words that end in vowels\n",
        "  vowel_ends = []\n",
        "  vowels = ['a','e','i','o','u']\n",
        "  for i in l:\n",
        "    if i[-1] in vowels:\n",
        "      vowel_ends.append(i[0])\n",
        "  print(vowel_ends)\n",
        "vowel_end(example2)"
      ],
      "metadata": {
        "id": "1Gi3andbppDc",
        "outputId": "9bf46e3b-4683-4438-9277-be10eba2fe5b",
        "colab": {
          "base_uri": "https://localhost:8080/"
        }
      },
      "execution_count": 18,
      "outputs": [
        {
          "output_type": "stream",
          "name": "stdout",
          "text": [
            "['e']\n"
          ]
        }
      ]
    },
    {
      "cell_type": "markdown",
      "source": [
        "### Multiplication as a recursive process\n",
        "Problem 2.  Write a recursive function that computes the product of two positive integers `a` and `b` by adding `a` to itself `b` times.\n",
        "\n",
        "Hints:  \n",
        "1. if `b=1` then the product is `a`.\n",
        "2. if `b>1` then the product is what you get by adding `a` to `a * (b-1)`.\n",
        "\n",
        "Note:  the purpose of this exercise is to practice writing recursive functions.  Of course you can trivially ask for `a*b` and get the correct answer but that is worth no points.  Your function should not use any multiplications.\n"
      ],
      "metadata": {
        "id": "iV4ysawxjsiE"
      }
    },
    {
      "cell_type": "code",
      "execution_count": 19,
      "metadata": {
        "id": "wc9Y1d7ejrvH",
        "outputId": "02358807-bfe9-435f-8095-d61528ea12b9",
        "colab": {
          "base_uri": "https://localhost:8080/"
        }
      },
      "outputs": [
        {
          "output_type": "execute_result",
          "data": {
            "text/plain": [
              "12"
            ]
          },
          "metadata": {},
          "execution_count": 19
        }
      ],
      "source": [
        "def recursive_multiplication(a,b): #Takes two integers and finds their product, using a function within itself to create a recursive process\n",
        "  if b == 1:\n",
        "    return a\n",
        "  else:\n",
        "    return a + recursive_multiplication(a,b-1)\n",
        "recursive_multiplication(3,4)"
      ]
    },
    {
      "cell_type": "markdown",
      "source": [
        "### Division as a recursive process\n",
        "\n",
        "Problem 3:  Write a recursive function that takes two positive integers `a` and `b` and returns the quotient `q` and remainder `r` obtained when `a` is divided by `b`.\n",
        "\n",
        "Hints:  \n",
        "1. If `a<b` then what should `q` and `r` be?\n",
        "\n",
        "2. If `a>b` then think about how `q` and `r` are related to the values you would get from dividing `a-b` by `b`."
      ],
      "metadata": {
        "id": "A5xI1LxDkxn0"
      }
    },
    {
      "cell_type": "code",
      "source": [
        "def recursive_division(a,b):\n",
        "  if a < b: #Hint 1, the function would not work as normal with an a less than b, set up the special case\n",
        "    return(0,a)\n",
        "  else:\n",
        "    (q,r) = recursive_division(a-b,b) #Hint 2, set up the function to reiterate with a-b and b as the inputs\n",
        "    return (q+1,r) #Returns the accumulated \"a\"s that have been subtracted before arriving to an \"a\" smaller than \"b\"\n",
        "recursive_division(17,3)"
      ],
      "metadata": {
        "id": "_3aRmkgJkxUW",
        "outputId": "b7cb2ae5-18b7-4471-ee74-975c02a9a635",
        "colab": {
          "base_uri": "https://localhost:8080/"
        }
      },
      "execution_count": 21,
      "outputs": [
        {
          "output_type": "execute_result",
          "data": {
            "text/plain": [
              "(5, 2)"
            ]
          },
          "metadata": {},
          "execution_count": 21
        }
      ]
    },
    {
      "cell_type": "markdown",
      "source": [],
      "metadata": {
        "id": "2jLSNVfESN2a"
      }
    },
    {
      "cell_type": "markdown",
      "source": [
        "### The dot product of two vectors\n",
        "\n",
        "Problem 4.  Write a recursive function `dot()` that takes two lists of numbers, of equal length, and returns the sum of the products of the elements of the same index from each list. For example, if `V=[1,2,3]` and `W=[4,5,6]` then the function should return the value $(1 \\cdot 4) + (2\\cdot 5) + (3\\cdot 6)$, which equals 32.  In physics and linear algebra, this is called the \"dot product\" of the vectors `V` and `W`.\n",
        "\n",
        "Other examples:\n",
        "```\n",
        "dot([3],[4])\n",
        "12\n",
        "\n",
        "dot([1,1,0],[2,7,17])\n",
        "9\n",
        "```\n",
        "Hints:\n",
        "1. How is `dot(V,W)` related to `dot(V[1:],W[1:])`?\n",
        "2. What should happen if the lists are empty?"
      ],
      "metadata": {
        "id": "OkBK7gvglJ3u"
      }
    },
    {
      "cell_type": "code",
      "source": [
        "list1 = [3,2,4]\n",
        "list2 = [7,2,9]\n",
        "def dot_product(V,W):\n",
        "  if len(V) == 0 and len(W) == 0:\n",
        "    return(0)\n",
        "  else:\n",
        "    multiplication_step = [V[0]*W[0]]\n",
        "    addition_step = sum(multiplication_step)\n",
        "    return addition_step\n",
        "dot_product(list1,list2)"
      ],
      "metadata": {
        "id": "LZXs6lkslJqm",
        "outputId": "1bbab3ae-9404-46f3-c30b-ea702e9c8e4c",
        "colab": {
          "base_uri": "https://localhost:8080/"
        }
      },
      "execution_count": 27,
      "outputs": [
        {
          "output_type": "execute_result",
          "data": {
            "text/plain": [
              "21"
            ]
          },
          "metadata": {},
          "execution_count": 27
        }
      ]
    }
  ]
}