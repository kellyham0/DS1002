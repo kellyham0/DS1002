{
  "nbformat": 4,
  "nbformat_minor": 0,
  "metadata": {
    "colab": {
      "provenance": [],
      "include_colab_link": true
    },
    "kernelspec": {
      "name": "python3",
      "display_name": "Python 3"
    },
    "language_info": {
      "name": "python"
    }
  },
  "cells": [
    {
      "cell_type": "markdown",
      "metadata": {
        "id": "view-in-github",
        "colab_type": "text"
      },
      "source": [
        "<a href=\"https://colab.research.google.com/github/kellyham0/DS1002/blob/main/Assignments/13_Classes.ipynb\" target=\"_parent\"><img src=\"https://colab.research.google.com/assets/colab-badge.svg\" alt=\"Open In Colab\"/></a>"
      ]
    },
    {
      "cell_type": "markdown",
      "source": [
        "## Assignment:  Classes\n",
        "### Due Sunday 28 April at 10pm"
      ],
      "metadata": {
        "id": "5Vy93BSp9Tum"
      }
    },
    {
      "cell_type": "markdown",
      "source": [
        "1.  Define a class called `Person` that has attributes `lastName`, `firstName`, `mother`, and `father`.  Both `mother` and `father` should have default value `unknown`.\n",
        "\n",
        "  Include a `__str__()` function that returns a string of the form '`firstName` `lastName`'.\n",
        "\n",
        "  Include a `__repr__()` function that returns a string that can be evaluated to recreate the `Person` object.\n",
        "\n"
      ],
      "metadata": {
        "id": "vcj5XQAI9Wsb"
      }
    },
    {
      "cell_type": "code",
      "source": [
        "class Person:\n",
        "  def __init__(self,lastName,firstName,mother='unknown',father='unknown'):\n",
        "    self.lastName = lastName\n",
        "    self.firstName = firstName\n",
        "    self.mother = mother\n",
        "    self.father = father\n",
        "  def __str__(self):\n",
        "      return f'({self.firstName} {self.lastName})'\n",
        "  def __repr__(self):\n",
        "      return f'Person(\"{self.lastName}\",\"{self.firstName}\",\"{self.mother}\",\"{self.father}\")'\n"
      ],
      "metadata": {
        "id": "mjHDwHv3EpVe"
      },
      "execution_count": 19,
      "outputs": []
    },
    {
      "cell_type": "markdown",
      "source": [
        "Create a person (i.e., a `Person` object) called `p` with unknown parents.  (You will need to give your person a first and last name.) Check the type of `p`.  Include all inputs and outputs."
      ],
      "metadata": {
        "id": "-ppMsEIVHINl"
      }
    },
    {
      "cell_type": "code",
      "source": [
        "p = Person('Ham','Kelly')"
      ],
      "metadata": {
        "id": "5bwid_6gHIBH"
      },
      "execution_count": 20,
      "outputs": []
    },
    {
      "cell_type": "markdown",
      "source": [
        "Verify that your `__str__` and `__repr__` functions are doing what they are supposed to do.  Include all inputs and outputs."
      ],
      "metadata": {
        "id": "Z6zlUC3xRtal"
      }
    },
    {
      "cell_type": "code",
      "source": [
        "print(str(p))\n",
        "print(repr(p))"
      ],
      "metadata": {
        "id": "jZO0dBQYRs-K",
        "outputId": "83beded6-09ce-4b44-e7d6-c6f7598eef98",
        "colab": {
          "base_uri": "https://localhost:8080/"
        }
      },
      "execution_count": 21,
      "outputs": [
        {
          "output_type": "stream",
          "name": "stdout",
          "text": [
            "(Kelly Ham)\n",
            "Person(\"Ham\",\"Kelly\",\"unknown\",\"unknown\")\n"
          ]
        }
      ]
    },
    {
      "cell_type": "markdown",
      "source": [
        "Suppose the mother of `p` has been found and is named Taylor Swift.  Create a new person named Taylor Swift, and make her the mother of `p`:\n",
        "\n",
        "```\n",
        "> p.mother\n",
        "'Taylor Swift'\n",
        "```"
      ],
      "metadata": {
        "id": "1mOAThQiHzoQ"
      }
    },
    {
      "cell_type": "code",
      "source": [
        "taylorswift = Person('Swift','Taylor')\n",
        "p.mother = taylorswift"
      ],
      "metadata": {
        "id": "NYbDOorpHymz"
      },
      "execution_count": 24,
      "outputs": []
    },
    {
      "cell_type": "markdown",
      "source": [
        "2.  Add some methods to your class.  Start by copying the `class` definition you already wrote.  Then, inside the `class` definition:\n",
        "\n",
        "  (a) Write a method called `unknownParent()` which returns `True` if any parent is 'unknown' and `False` otherwise.\n",
        "\n",
        "  (b) Write a method called `maternalGrandmother()` which returns the mother's mother.  If the mother is unknown, it should return 'unknown'.\n",
        "\n"
      ],
      "metadata": {
        "id": "1g1pcrmFHzGh"
      }
    },
    {
      "cell_type": "code",
      "source": [
        "class Person:\n",
        "  def __init__(self,lastName,firstName,mother='unknown',father='unknown'):\n",
        "    self.lastName = lastName\n",
        "    self.firstName = firstName\n",
        "    self.mother = mother\n",
        "    self.father = father\n",
        "  def __str__(self):\n",
        "      return f'({self.firstName} {self.lastName})'\n",
        "  def __repr__(self):\n",
        "      return f'Person(\"{self.lastName}\",\"{self.firstName}\",\"{self.mother}\",\"{self.father}\")'\n",
        "  def unknownParent(self):\n",
        "    if self.mother=='unknown' or self.father=='unknown':\n",
        "      return print('True')\n",
        "    else:\n",
        "      return print('False')\n",
        "  def maternalGrandmother(self):\n",
        "    if self.mother=='unknown':\n",
        "      return 'unknown'\n",
        "    elif isinstance(self.mother, Person):\n",
        "      if self.mother.mother=='unknown'or self.mother == None:\n",
        "        return 'unknown'\n",
        "      else:\n",
        "        directmother = self.mother\n",
        "        grandmother = directmother.mother\n",
        "        return grandmother"
      ],
      "metadata": {
        "id": "7mIxJGwwKTpv"
      },
      "execution_count": 39,
      "outputs": []
    },
    {
      "cell_type": "markdown",
      "source": [
        "Create enough `Person` objects to test whether your methods are working properly.  Show all your inputs and outputs.  It is up to you to demonstrate that you have thoroughly tested the code.  You may use additional code and/or text chunks if it helps."
      ],
      "metadata": {
        "id": "l9-4gxd8FxAQ"
      }
    },
    {
      "cell_type": "code",
      "source": [
        "p_1 = Person('Smith','Elizabeth')\n",
        "p_2= Person('Smith','Catherine',mother = 'Alice Smith')\n",
        "p_3 = Person('Smith','Sean', mother = 'Catherine Smith', father = 'Robert')\n",
        "p_4 = Person('Smith','Alice', mother = 'Rose')\n",
        "p_5 = Person('Smith','John', father = 'Jack')\n",
        "\n",
        "print(p_1.unknownParent())\n",
        "print(p_2.unknownParent())\n",
        "print(p_3.unknownParent())\n",
        "print(p_4.unknownParent())\n",
        "print(p_5.unknownParent())\n",
        "\n",
        "print(p_1.maternalGrandmother())\n",
        "print(p_2.maternalGrandmother())\n",
        "print(p_3.maternalGrandmother())\n",
        "print(p_4.maternalGrandmother())\n",
        "print(p_5.maternalGrandmother())"
      ],
      "metadata": {
        "id": "gX1qpcKzFwoZ",
        "outputId": "9a11048d-8db4-404c-a10b-0147838ebae0",
        "colab": {
          "base_uri": "https://localhost:8080/"
        }
      },
      "execution_count": 40,
      "outputs": [
        {
          "output_type": "stream",
          "name": "stdout",
          "text": [
            "True\n",
            "None\n",
            "True\n",
            "None\n",
            "False\n",
            "None\n",
            "True\n",
            "None\n",
            "True\n",
            "None\n",
            "unknown\n",
            "None\n",
            "None\n",
            "None\n",
            "unknown\n"
          ]
        }
      ]
    }
  ]
}