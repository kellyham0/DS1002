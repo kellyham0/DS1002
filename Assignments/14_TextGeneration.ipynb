{
  "nbformat": 4,
  "nbformat_minor": 0,
  "metadata": {
    "colab": {
      "provenance": [],
      "include_colab_link": true
    },
    "kernelspec": {
      "name": "python3",
      "display_name": "Python 3"
    },
    "language_info": {
      "name": "python"
    }
  },
  "cells": [
    {
      "cell_type": "markdown",
      "metadata": {
        "id": "view-in-github",
        "colab_type": "text"
      },
      "source": [
        "<a href=\"https://colab.research.google.com/github/kellyham0/DS1002/blob/main/Assignments/14_TextGeneration.ipynb\" target=\"_parent\"><img src=\"https://colab.research.google.com/assets/colab-badge.svg\" alt=\"Open In Colab\"/></a>"
      ]
    },
    {
      "cell_type": "markdown",
      "source": [
        "## Final homework assignment:  generating text from a corpus\n",
        "\n",
        "Due Friday 3 May at 5 pm"
      ],
      "metadata": {
        "id": "tWbrZqoW5281"
      }
    },
    {
      "cell_type": "markdown",
      "source": [
        "We begin by loading all of Shakespeare's plays into a text file, and separating them into individual words.  This is made easy by the fact that someone already made a giant text file of these plays for us, and put it online.\n",
        "\n",
        "[Note that by changing the url in the following code chunk, you can load any text file that lives online in this way . . . see below.]\n",
        "\n",
        "Run the following code.  It should output a list of ten words, starting with 'From' and ending with 'rose'."
      ],
      "metadata": {
        "id": "7tMMjgkjF7gk"
      }
    },
    {
      "cell_type": "code",
      "source": [
        "from urllib.request import urlopen            #package for reading info from the web\n",
        "url='https://ocw.mit.edu/ans7870/6/6.006/s08/lecturenotes/files/t8.shakespeare.txt'   #web address\n",
        "text = urlopen(url).read().decode('utf-8')    #open web address, read file, convert to text\n",
        "shakespeare_words=text.split()[1651:]         #split text into words (not including preamble)\n",
        "shakespeare_words[:10]                        #display the first 10 words"
      ],
      "metadata": {
        "id": "PoW71ljm2GS-",
        "outputId": "5e27e924-fdb8-4e5d-bb27-0f0409a7eb15",
        "colab": {
          "base_uri": "https://localhost:8080/"
        }
      },
      "execution_count": 46,
      "outputs": [
        {
          "output_type": "execute_result",
          "data": {
            "text/plain": [
              "['From',\n",
              " 'fairest',\n",
              " 'creatures',\n",
              " 'we',\n",
              " 'desire',\n",
              " 'increase,',\n",
              " 'That',\n",
              " 'thereby',\n",
              " \"beauty's\",\n",
              " 'rose']"
            ]
          },
          "metadata": {},
          "execution_count": 46
        }
      ]
    },
    {
      "cell_type": "markdown",
      "source": [
        "## 1. `nextwords` practice\n",
        "\n",
        "Create a practice function called `createNextwordsPractice` which takes a list of words called `wordlist` and returns a dictionary called `nextwordsPractice`. The keys of `nextwordsPractice` should be all the words in `wordlist`, and the value for any given key should be a list of all the words that follow the key word somewhere in the original `wordlist`.\n",
        "\n"
      ],
      "metadata": {
        "id": "AIeohQaAHRF8"
      }
    },
    {
      "cell_type": "code",
      "source": [
        "def createNextwordsPractice(wordlist):\n",
        "  nextwordsPractice = {}\n",
        "  for i in range(len(wordlist)-1):\n",
        "    nextwordsPractice[wordlist[i]] = [wordlist[i+1]]\n",
        "  return nextwordsPractice"
      ],
      "metadata": {
        "id": "2XZa2K3C3InW"
      },
      "execution_count": 47,
      "outputs": []
    },
    {
      "cell_type": "markdown",
      "source": [
        "Run the following code:"
      ],
      "metadata": {
        "id": "FH3N2raWjtfd"
      }
    },
    {
      "cell_type": "code",
      "source": [
        "practice = createNextwordsPractice(shakespeare_words)\n",
        "practice['From']"
      ],
      "metadata": {
        "id": "P3M8beYAjiie",
        "outputId": "575c6965-b692-44b8-d08d-35ac56c1c626",
        "colab": {
          "base_uri": "https://localhost:8080/"
        }
      },
      "execution_count": 48,
      "outputs": [
        {
          "output_type": "execute_result",
          "data": {
            "text/plain": [
              "['off']"
            ]
          },
          "metadata": {},
          "execution_count": 48
        }
      ]
    },
    {
      "cell_type": "code",
      "source": [
        "practice['rose']"
      ],
      "metadata": {
        "id": "W5FCOXElICLb",
        "outputId": "47b80e68-657d-49de-b1e9-de90eda78d9c",
        "colab": {
          "base_uri": "https://localhost:8080/"
        }
      },
      "execution_count": 49,
      "outputs": [
        {
          "output_type": "execute_result",
          "data": {
            "text/plain": [
              "['he']"
            ]
          },
          "metadata": {},
          "execution_count": 49
        }
      ]
    },
    {
      "cell_type": "code",
      "source": [
        "practice['rose.']"
      ],
      "metadata": {
        "id": "Vr57wNx5BO4K",
        "outputId": "5db57034-84e4-4bba-d0ce-f2cc87708871",
        "colab": {
          "base_uri": "https://localhost:8080/"
        }
      },
      "execution_count": 50,
      "outputs": [
        {
          "output_type": "execute_result",
          "data": {
            "text/plain": [
              "['It']"
            ]
          },
          "metadata": {},
          "execution_count": 50
        }
      ]
    },
    {
      "cell_type": "markdown",
      "source": [
        "## 2. `nextwords` for real:  new sentences.\n",
        "\n",
        "Next, write a new function called `createNextwords` which takes a `wordlist` and returns a dictionary of `nextwords`, but now with a new additional feature.  \n",
        "In addition to the keys from problem 1, add a special key to the dictionary, which will be the symbol '%'.  This key will signify the first word of a sentence. When scanning the wordlist to construct the `nextwords` dictionary, normally you would add `wordlist[i+1]` to the list `nextwords[wordlist[i]]`. However, if `wordlist[i]` ends with a period, then you should instead add `wordlist[i+1]` to the list nextwords['%']. Also add the very first word of `wordlist` to nextwords['%'].\n",
        "\n",
        "\n",
        "You should be able to produce this output:\n",
        "```\n",
        "> shakespeare_nextwords=createNextwords(shakespeare_words)\n",
        "> shakespeare_nextwords['Rose']\n",
        "['at', 'or', 'or', 'and']\n",
        "\n",
        "> shakespeare_nextwords['rose.']\n",
        "[]\n",
        "\n",
        "> len(shakespeare_nextwords['%'])\n",
        "76543\n",
        "```"
      ],
      "metadata": {
        "id": "t221x1X3iRVA"
      }
    },
    {
      "cell_type": "code",
      "source": [
        "def createNextwords(wordlist):\n",
        "  nextwords = {}\n",
        "  for i in range(len(wordlist)-1):\n",
        "    if wordlist[i].endswith('.'):\n",
        "      if wordlist[i] not in nextwords:\n",
        "        nextwords['%'] = [wordlist[i+1]]\n",
        "      else:\n",
        "        nextwords['%'].append(wordlist[i+1])\n",
        "    else:\n",
        "      if wordlist[i] not in nextwords:\n",
        "        nextwords[wordlist[i]] = [wordlist[i+1]]\n",
        "      else:\n",
        "        nextwords[wordlist[i]].append(wordlist[i+1])\n",
        "  return nextwords"
      ],
      "metadata": {
        "id": "Ze_-Uv2alRWX"
      },
      "execution_count": 51,
      "outputs": []
    },
    {
      "cell_type": "markdown",
      "source": [
        "Run the following code:"
      ],
      "metadata": {
        "id": "x7bamoxBlX6Q"
      }
    },
    {
      "cell_type": "code",
      "source": [
        "shakespeare_nextwords = createNextwords(shakespeare_words)\n",
        "\n",
        "print(shakespeare_nextwords['Rose'])\n",
        "print(len(shakespeare_nextwords['%']))"
      ],
      "metadata": {
        "id": "xv4ANlzvlZ2e",
        "outputId": "51ad9f59-d2ae-40cb-d232-e6fc0e8b8c09",
        "colab": {
          "base_uri": "https://localhost:8080/"
        }
      },
      "execution_count": 52,
      "outputs": [
        {
          "output_type": "stream",
          "name": "stdout",
          "text": [
            "['at', 'or', 'or', 'and']\n",
            "1\n"
          ]
        }
      ]
    },
    {
      "cell_type": "code",
      "source": [
        "print(len(shakespeare_nextwords['rose']))"
      ],
      "metadata": {
        "id": "NsLW7PYYCj1r",
        "outputId": "c01c66d0-94e5-4361-ee4b-0bd29e361d27",
        "colab": {
          "base_uri": "https://localhost:8080/"
        }
      },
      "execution_count": 53,
      "outputs": [
        {
          "output_type": "stream",
          "name": "stdout",
          "text": [
            "40\n"
          ]
        }
      ]
    },
    {
      "cell_type": "code",
      "source": [
        "print(shakespeare_nextwords['rose.'])"
      ],
      "metadata": {
        "id": "NyjLxUKiIPqG",
        "outputId": "3d2edf61-e03a-4ae1-f7fc-be0385a5a4ca",
        "colab": {
          "base_uri": "https://localhost:8080/",
          "height": 141
        }
      },
      "execution_count": 54,
      "outputs": [
        {
          "output_type": "error",
          "ename": "KeyError",
          "evalue": "'rose.'",
          "traceback": [
            "\u001b[0;31m---------------------------------------------------------------------------\u001b[0m",
            "\u001b[0;31mKeyError\u001b[0m                                  Traceback (most recent call last)",
            "\u001b[0;32m<ipython-input-54-5ec62f6c566a>\u001b[0m in \u001b[0;36m<cell line: 1>\u001b[0;34m()\u001b[0m\n\u001b[0;32m----> 1\u001b[0;31m \u001b[0mprint\u001b[0m\u001b[0;34m(\u001b[0m\u001b[0mshakespeare_nextwords\u001b[0m\u001b[0;34m[\u001b[0m\u001b[0;34m'rose.'\u001b[0m\u001b[0;34m]\u001b[0m\u001b[0;34m)\u001b[0m\u001b[0;34m\u001b[0m\u001b[0;34m\u001b[0m\u001b[0m\n\u001b[0m",
            "\u001b[0;31mKeyError\u001b[0m: 'rose.'"
          ]
        }
      ]
    },
    {
      "cell_type": "markdown",
      "source": [
        "## 3.  Make your own Shakespeare play\n",
        "\n",
        "Okay, that may be a bit of an exaggeration.  Anyway, next up is text generation.  \n",
        "We'll need the choice function:"
      ],
      "metadata": {
        "id": "BCIAfYSIX3VC"
      }
    },
    {
      "cell_type": "code",
      "source": [
        "from random import choice"
      ],
      "metadata": {
        "id": "rbBHDv55Biae"
      },
      "execution_count": 55,
      "outputs": []
    },
    {
      "cell_type": "markdown",
      "source": [
        "This function chooses a random element from a list.  Run this code a few times:"
      ],
      "metadata": {
        "id": "-vCM3Z0BmAw9"
      }
    },
    {
      "cell_type": "code",
      "source": [
        "choice([1, 17, 34, 289])"
      ],
      "metadata": {
        "colab": {
          "base_uri": "https://localhost:8080/"
        },
        "id": "FGMf-UmAl_uf",
        "outputId": "84a01018-c1c1-4611-bf34-a4777aa09b48"
      },
      "execution_count": 56,
      "outputs": [
        {
          "output_type": "execute_result",
          "data": {
            "text/plain": [
              "17"
            ]
          },
          "metadata": {},
          "execution_count": 56
        }
      ]
    },
    {
      "cell_type": "markdown",
      "source": [
        "Now, create a function called `makePlay(nextwords,n)` which takes a dictionary `nextwords` and a number `n`, and follows these steps:\n",
        "1. Define an empty `newplay` string.  (I did this for you.)\n",
        "2. Set `currentword` equal to '%'.\n",
        "3. Start a for-loop that will run `n` times.\n",
        "4. Randomly choose a word from the list `nextwords[currentword]`.\n",
        "5. Add the chosen word to `newplay`, followed by a space `' '` character.\n",
        "6. If the chosen word ends in a period, add a newline character '\\n' and set `currentword` equal to `%`.\n",
        "7. Otherwise, set `currentword` equal to the chosen word.\n",
        "8. Go back to step 4.\n",
        "9. When all `n` iterations have finished, your function should return `newplay`."
      ],
      "metadata": {
        "id": "ZmLqxclQYMpl"
      }
    },
    {
      "cell_type": "code",
      "source": [
        "def makePlay(nextwords,n):\n",
        "  newplay=''\n",
        "  currentword = '%'\n",
        "  for i in range(n):\n",
        "    random = choice(nextwords[currentword])\n",
        "    if random.endswith('.'):\n",
        "      newplay += '|n'\n",
        "      currentword = '%'\n",
        "    else:\n",
        "      currentword = random\n",
        "      newplay += random + ' '\n",
        "  return newplay\n"
      ],
      "metadata": {
        "id": "gMxDF-MiYqD2"
      },
      "execution_count": 57,
      "outputs": []
    },
    {
      "cell_type": "markdown",
      "source": [
        "Now create a 1000 word Shakesperian play by running the following code:"
      ],
      "metadata": {
        "id": "v_uCxqDZtuhP"
      }
    },
    {
      "cell_type": "code",
      "source": [
        "nextwords=createNextwords(shakespeare_words)\n",
        "newplay=makePlay(nextwords,1000)\n",
        "print(newplay)"
      ],
      "metadata": {
        "id": "KVtzPXWWEdDR",
        "outputId": "0c616066-f441-4221-b028-e68408d67351",
        "colab": {
          "base_uri": "https://localhost:8080/"
        }
      },
      "execution_count": 58,
      "outputs": [
        {
          "output_type": "stream",
          "name": "stdout",
          "text": [
            "PROHIBITED COMMERCIAL DISTRIBUTION INCLUDES BY WORLD LIBRARY, INC., AND IS COPYRIGHT 1990-1993 BY ANY SERVICE THAT CHARGES FOR DOWNLOAD TIME OR OTHERS PERSONAL USE ONLY, AND (2) ARE FOR DOWNLOAD TIME OR FOR YOUR OR OTHERS PERSONAL USE ONLY, AND IS PROVIDED BY WORLD LIBRARY, INC., AND MACHINE READABLE COPIES MAY BE DISTRIBUTED OR USED |nPROHIBITED COMMERCIAL DISTRIBUTION INCLUDES BY PROJECT GUTENBERG ETEXT OF |nPROHIBITED COMMERCIAL DISTRIBUTION INCLUDES BY PROJECT GUTENBERG ETEXT OF ILLINOIS BENEDICTINE COLLEGE WITH |nPROHIBITED COMMERCIAL DISTRIBUTION INCLUDES BY PROJECT GUTENBERG ETEXT OF WILLIAM SHAKESPEARE IS COPYRIGHT 1990-1993 BY WORLD LIBRARY, INC., AND MACHINE READABLE COPIES MAY BE DISTRIBUTED SO LONG AS SUCH COPIES MAY BE DISTRIBUTED OR OTHERS PERSONAL USE ONLY, AND MACHINE READABLE COPIES (1) ARE FOR YOUR OR OTHERS PERSONAL USE ONLY, AND IS PROVIDED BY WORLD LIBRARY, INC., AND (2) ARE NOT DISTRIBUTED OR OTHERS PERSONAL USE ONLY, AND MACHINE READABLE COPIES MAY BE DISTRIBUTED OR OTHERS PERSONAL USE ONLY, AND MACHINE READABLE COPIES MAY BE DISTRIBUTED OR FOR YOUR OR USED |nPROHIBITED COMMERCIAL DISTRIBUTION INCLUDES BY WORLD LIBRARY, INC., AND IS COPYRIGHT 1990-1993 BY WORLD LIBRARY, INC., AND IS COPYRIGHT 1990-1993 BY ANY SERVICE THAT CHARGES FOR DOWNLOAD TIME OR USED |nPROHIBITED COMMERCIAL DISTRIBUTION INCLUDES BY WORLD LIBRARY, INC., AND (2) ARE FOR MEMBERSHIP.>> ACT |nPROHIBITED COMMERCIAL DISTRIBUTION INCLUDES BY ANY SERVICE THAT CHARGES FOR YOUR OR OTHERS PERSONAL USE ONLY, AND IS COPYRIGHT 1990-1993 BY PROJECT GUTENBERG ETEXT OF ILLINOIS BENEDICTINE COLLEGE WITH |nPROHIBITED COMMERCIAL DISTRIBUTION INCLUDES BY PROJECT GUTENBERG ETEXT OF ELY BISHOP OF |nPROHIBITED COMMERCIAL DISTRIBUTION INCLUDES BY ANY SERVICE THAT CHARGES FOR MEMBERSHIP.>> ACT |nPROHIBITED COMMERCIAL DISTRIBUTION INCLUDES BY ANY SERVICE THAT CHARGES FOR DOWNLOAD TIME OR OTHERS PERSONAL USE ONLY, AND MACHINE READABLE COPIES (1) ARE NOT DISTRIBUTED SO LONG AS SUCH COPIES MAY BE DISTRIBUTED SO LONG AS SUCH COPIES (1) ARE NOT DISTRIBUTED OR FOR DOWNLOAD TIME OR OTHERS PERSONAL USE ONLY, AND MACHINE READABLE COPIES MAY BE DISTRIBUTED SO LONG AS SUCH COPIES MAY BE DISTRIBUTED OR FOR MEMBERSHIP.>> ACT |nPROHIBITED COMMERCIAL DISTRIBUTION INCLUDES BY ANY SERVICE THAT CHARGES FOR MEMBERSHIP.>> ACT |nPROHIBITED COMMERCIAL DISTRIBUTION INCLUDES BY WORLD LIBRARY, INC., AND (2) ARE FOR DOWNLOAD TIME OR OTHERS |nPROHIBITED COMMERCIAL DISTRIBUTION INCLUDES BY ANY SERVICE THAT CHARGES FOR YOUR OR FOR DOWNLOAD TIME OR OTHERS |nPROHIBITED COMMERCIAL DISTRIBUTION INCLUDES BY WORLD LIBRARY, INC., AND IS PROVIDED BY ANY SERVICE THAT CHARGES FOR YOUR OR USED |nPROHIBITED COMMERCIAL DISTRIBUTION INCLUDES BY PROJECT GUTENBERG ETEXT OF ILLINOIS BENEDICTINE COLLEGE WITH |nPROHIBITED COMMERCIAL DISTRIBUTION INCLUDES BY WORLD LIBRARY, INC., AND CRESSIDA by my man's a great and you may, and faithfully affirm |nPROHIBITED COMMERCIAL DISTRIBUTION INCLUDES BY WORLD LIBRARY, INC., AND |nPROHIBITED COMMERCIAL DISTRIBUTION INCLUDES BY WORLD LIBRARY, INC., AND IS PROVIDED BY ANY SERVICE THAT CHARGES FOR YOUR OR FOR YOUR OR OTHERS PERSONAL USE ONLY, AND (2) ARE NOT DISTRIBUTED SO LONG AS SUCH COPIES MAY BE DISTRIBUTED OR FOR DOWNLOAD TIME OR USED |nPROHIBITED COMMERCIAL DISTRIBUTION INCLUDES BY PROJECT GUTENBERG ETEXT OF WILLIAM SHAKESPEARE IS COPYRIGHT 1990-1993 BY ANY SERVICE THAT CHARGES FOR MEMBERSHIP.>> ACT |nPROHIBITED COMMERCIAL DISTRIBUTION INCLUDES BY WORLD LIBRARY, INC., AND MACHINE READABLE COPIES MAY BE DISTRIBUTED OR OTHERS PERSONAL USE ONLY, AND IS PROVIDED BY WORLD LIBRARY, INC., AND MACHINE READABLE COPIES MAY BE DISTRIBUTED OR OTHERS PERSONAL USE ONLY, AND MACHINE READABLE COPIES (1) ARE FOR YOUR OR USED |nPROHIBITED COMMERCIAL DISTRIBUTION INCLUDES BY PROJECT GUTENBERG ETEXT OF ILLINOIS BENEDICTINE COLLEGE WITH |nPROHIBITED COMMERCIAL DISTRIBUTION INCLUDES BY PROJECT GUTENBERG ETEXT OF |nPROHIBITED COMMERCIAL DISTRIBUTION INCLUDES BY WORLD LIBRARY, INC., AND MACHINE READABLE COPIES MAY BE DISTRIBUTED SO LONG AS SUCH COPIES (1) ARE NOT DISTRIBUTED OR FOR DOWNLOAD TIME OR USED |nPROHIBITED COMMERCIAL DISTRIBUTION INCLUDES BY PROJECT GUTENBERG ETEXT OF ILLINOIS BENEDICTINE COLLEGE WITH |nPROHIBITED COMMERCIAL DISTRIBUTION INCLUDES BY PROJECT GUTENBERG ETEXT OF |nPROHIBITED COMMERCIAL DISTRIBUTION INCLUDES BY ANY SERVICE THAT CHARGES FOR DOWNLOAD TIME OR FOR DOWNLOAD TIME OR FOR DOWNLOAD TIME OR USED |nPROHIBITED COMMERCIAL DISTRIBUTION INCLUDES BY ANY SERVICE THAT CHARGES FOR MEMBERSHIP.>> ACT |nPROHIBITED COMMERCIAL DISTRIBUTION INCLUDES BY ANY SERVICE THAT CHARGES FOR YOUR OR OTHERS PERSONAL USE ONLY, AND IS PROVIDED BY WORLD LIBRARY, INC., AND IS PROVIDED BY WORLD LIBRARY, INC., AND MACHINE READABLE COPIES MAY BE DISTRIBUTED OR FOR DOWNLOAD TIME OR FOR MEMBERSHIP.>> ACT |nPROHIBITED COMMERCIAL DISTRIBUTION INCLUDES BY ANY SERVICE THAT CHARGES FOR DOWNLOAD TIME OR OTHERS PERSONAL USE ONLY, AND MACHINE READABLE COPIES (1) ARE FOR MEMBERSHIP.>> ACT |nPROHIBITED COMMERCIAL DISTRIBUTION INCLUDES BY PROJECT GUTENBERG ETEXT OF WILLIAM SHAKESPEARE IS PROVIDED BY ANY SERVICE THAT CHARGES FOR MEMBERSHIP.>> ACT |nPROHIBITED COMMERCIAL DISTRIBUTION INCLUDES BY WORLD LIBRARY, INC., AND MACHINE READABLE COPIES (1) ARE NOT DISTRIBUTED OR FOR DOWNLOAD TIME OR OTHERS PERSONAL USE ONLY, AND MACHINE READABLE COPIES (1) ARE NOT DISTRIBUTED SO LONG AS SUCH COPIES MAY BE DISTRIBUTED SO LONG AS SUCH COPIES (1) ARE FOR YOUR OR USED |nPROHIBITED COMMERCIAL DISTRIBUTION INCLUDES BY WORLD LIBRARY, INC., AND IS PROVIDED BY WORLD LIBRARY, INC., AND IS PROVIDED BY PROJECT GUTENBERG ETEXT OF THE COMPLETE WORKS OF EPHESUS |nPROHIBITED COMMERCIAL DISTRIBUTION INCLUDES BY ANY SERVICE THAT CHARGES FOR MEMBERSHIP.>> 1599 MUCH ADO ABOUT NOTHING by the neck of his purveyor; but yield to be |nPROHIBITED COMMERCIAL DISTRIBUTION INCLUDES BY PROJECT GUTENBERG ETEXT OF |nPROHIBITED COMMERCIAL DISTRIBUTION INCLUDES BY PROJECT GUTENBERG ETEXT OF |nPROHIBITED COMMERCIAL DISTRIBUTION INCLUDES BY ANY SERVICE THAT CHARGES FOR DOWNLOAD TIME OR FOR DOWNLOAD TIME OR USED |nPROHIBITED COMMERCIAL DISTRIBUTION INCLUDES BY PROJECT GUTENBERG ETEXT OF ILLINOIS BENEDICTINE COLLEGE WITH |nPROHIBITED COMMERCIAL DISTRIBUTION INCLUDES BY WORLD LIBRARY, INC., AND IS COPYRIGHT 1990-1993 BY ANY SERVICE THAT CHARGES FOR MEMBERSHIP.>> SCENE.- |nPROHIBITED COMMERCIAL DISTRIBUTION INCLUDES BY PROJECT GUTENBERG ETEXT OF ILLINOIS BENEDICTINE COLLEGE WITH |nPROHIBITED COMMERCIAL DISTRIBUTION INCLUDES BY ANY SERVICE THAT CHARGES FOR DOWNLOAD TIME OR \n"
          ]
        }
      ]
    },
    {
      "cell_type": "markdown",
      "source": [
        "At this point you might enjoy finding other sources of text on the internet and replacing the url at the top of this notebook. You can use song lyrics, news articles, etc. You just need to find files ending with '.txt'. Alternatively, you can copy and paste any block of text from any file into colab, assign it to the variable `text`, and then use wordlist=text.split() to get a list of words."
      ],
      "metadata": {
        "id": "cHcYHBcNu65y"
      }
    },
    {
      "cell_type": "markdown",
      "source": [
        "## Bonus:\n",
        "\n",
        "Recall the following recursive function that we used to define the Fibonacci numbers:"
      ],
      "metadata": {
        "id": "SOZ_vzwJoG45"
      }
    },
    {
      "cell_type": "code",
      "source": [
        "def fibonacci(n):\n",
        "  # Base cases: F(0) = 0, F(1) = 1\n",
        "  if n == 0:\n",
        "    return 0\n",
        "  elif n == 1:\n",
        "    return 1\n",
        "  else:\n",
        "    # Recursive case: F(n) = F(n-1) + F(n-2)\n",
        "    return fibonacci(n - 1) + fibonacci(n - 2)\n"
      ],
      "metadata": {
        "id": "KTj2L--_oQDu"
      },
      "execution_count": null,
      "outputs": []
    },
    {
      "cell_type": "markdown",
      "source": [
        "Here is the question.  If you run this line of code:  \n",
        "`fibonacci(17)`  \n",
        "how many times does the function `fibonacci()` get called?  \n",
        "(The answer is not 1597, which is the value returned by the function.)"
      ],
      "metadata": {
        "id": "C-PtiPKwod0m"
      }
    }
  ]
}