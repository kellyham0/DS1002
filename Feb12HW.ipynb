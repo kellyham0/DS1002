{
  "nbformat": 4,
  "nbformat_minor": 0,
  "metadata": {
    "colab": {
      "provenance": [],
      "authorship_tag": "ABX9TyMowkZQJUvg1/+aHkpem/FR",
      "include_colab_link": true
    },
    "kernelspec": {
      "name": "python3",
      "display_name": "Python 3"
    },
    "language_info": {
      "name": "python"
    }
  },
  "cells": [
    {
      "cell_type": "markdown",
      "metadata": {
        "id": "view-in-github",
        "colab_type": "text"
      },
      "source": [
        "<a href=\"https://colab.research.google.com/github/kellyham0/DS1002/blob/main/Feb12HW.ipynb\" target=\"_parent\"><img src=\"https://colab.research.google.com/assets/colab-badge.svg\" alt=\"Open In Colab\"/></a>"
      ]
    },
    {
      "cell_type": "code",
      "execution_count": 5,
      "metadata": {
        "colab": {
          "base_uri": "https://localhost:8080/"
        },
        "id": "8MarZ4APGgnM",
        "outputId": "778bbebe-ba27-4027-e562-02b5764b6109"
      },
      "outputs": [
        {
          "output_type": "stream",
          "name": "stdout",
          "text": [
            "Requirement already satisfied: numpy in /usr/local/lib/python3.10/dist-packages (1.23.5)\n"
          ]
        }
      ],
      "source": [
        "pip install numpy"
      ]
    },
    {
      "cell_type": "code",
      "source": [
        "import random\n",
        "print(\"Pick a number between 0 and 10.\")\n",
        "computerpick = random.randint(0,10)\n",
        "set_number = computerpick\n",
        "userpick = input()\n",
        "usernumber = int(userpick)\n",
        "if isinstance(userpick,int):\n",
        "  if set_number == usernumber:\n",
        "    print(\"You got it!\")\n",
        "  elif usernumber < set_number:\n",
        "    print(\"Too low!\")\n",
        "  else:\n",
        "      print(\"Too high!\")\n",
        "else:\n",
        "  print(\"You must enter a number! Try again.\")"
      ],
      "metadata": {
        "colab": {
          "base_uri": "https://localhost:8080/"
        },
        "id": "-rbj3S1NLLr-",
        "outputId": "648b29a2-5880-47f2-d159-04824d285266"
      },
      "execution_count": 50,
      "outputs": [
        {
          "output_type": "stream",
          "name": "stdout",
          "text": [
            "Pick a number between 0 and 10.\n",
            "4\n",
            "You must enter a number! Try again.\n"
          ]
        }
      ]
    },
    {
      "cell_type": "markdown",
      "source": [
        "I am having trouble getting the code to accept numbers that are input as integers without the additional conversion to an integer as 'usernumber'. Even when I enter a number into the input command, my code processes the number as a string and will not pass it throug the numerical comparisons without first converting it to an integer."
      ],
      "metadata": {
        "id": "7RvW7np-ND9-"
      }
    },
    {
      "cell_type": "code",
      "source": [],
      "metadata": {
        "id": "TnRHDFItMpBr"
      },
      "execution_count": null,
      "outputs": []
    }
  ]
}