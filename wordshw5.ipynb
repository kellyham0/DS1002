{
  "nbformat": 4,
  "nbformat_minor": 0,
  "metadata": {
    "colab": {
      "provenance": [],
      "authorship_tag": "ABX9TyM3YTkyrc47CqoE6j5dS/Gx",
      "include_colab_link": true
    },
    "kernelspec": {
      "name": "python3",
      "display_name": "Python 3"
    },
    "language_info": {
      "name": "python"
    }
  },
  "cells": [
    {
      "cell_type": "markdown",
      "metadata": {
        "id": "view-in-github",
        "colab_type": "text"
      },
      "source": [
        "<a href=\"https://colab.research.google.com/github/kellyham0/DS1002/blob/main/wordshw5.ipynb\" target=\"_parent\"><img src=\"https://colab.research.google.com/assets/colab-badge.svg\" alt=\"Open In Colab\"/></a>"
      ]
    },
    {
      "cell_type": "code",
      "execution_count": null,
      "metadata": {
        "colab": {
          "base_uri": "https://localhost:8080/"
        },
        "id": "pFwR8tOjw9su",
        "outputId": "c2880551-38cf-45cb-e0ab-2823923cc3f9"
      },
      "outputs": [
        {
          "output_type": "stream",
          "name": "stdout",
          "text": [
            "Collecting english_words\n",
            "  Downloading english-words-2.0.1.tar.gz (8.2 MB)\n",
            "\u001b[2K     \u001b[90m━━━━━━━━━━━━━━━━━━━━━━━━━━━━━━━━━━━━━━━━\u001b[0m \u001b[32m8.2/8.2 MB\u001b[0m \u001b[31m21.0 MB/s\u001b[0m eta \u001b[36m0:00:00\u001b[0m\n",
            "\u001b[?25h  Installing build dependencies ... \u001b[?25l\u001b[?25hdone\n",
            "  Getting requirements to build wheel ... \u001b[?25l\u001b[?25hdone\n",
            "  Preparing metadata (pyproject.toml) ... \u001b[?25l\u001b[?25hdone\n",
            "Building wheels for collected packages: english_words\n",
            "  Building wheel for english_words (pyproject.toml) ... \u001b[?25l\u001b[?25hdone\n",
            "  Created wheel for english_words: filename=english_words-2.0.1-py3-none-any.whl size=8196238 sha256=a6b3fefc4c4d1d232a93f8b45bdf6c84aefdda049a8266f5650303e37f8caade\n",
            "  Stored in directory: /root/.cache/pip/wheels/f0/e6/d9/16a123647999fe535f03a36e7af23eef203736d84c7ca25b0b\n",
            "Successfully built english_words\n",
            "Installing collected packages: english_words\n",
            "Successfully installed english_words-2.0.1\n"
          ]
        }
      ],
      "source": [
        "!pip install english_words\n",
        "from english_words import get_english_words_set\n",
        "words = get_english_words_set(['web2'], lower=True)"
      ]
    },
    {
      "cell_type": "code",
      "source": [
        "print(type(words))\n",
        "#words is a set\n",
        "wordlist = list(words)\n",
        "len(wordlist)\n",
        "#wordlist is 234450 terms long"
      ],
      "metadata": {
        "colab": {
          "base_uri": "https://localhost:8080/"
        },
        "id": "HkvCxNlI1eBe",
        "outputId": "1c0e1d28-ac88-4573-f39e-d3ead3b7c2f9"
      },
      "execution_count": null,
      "outputs": [
        {
          "output_type": "stream",
          "name": "stdout",
          "text": [
            "<class 'set'>\n"
          ]
        },
        {
          "output_type": "execute_result",
          "data": {
            "text/plain": [
              "234450"
            ]
          },
          "metadata": {},
          "execution_count": 3
        }
      ]
    },
    {
      "cell_type": "code",
      "source": [
        "wordlist[0:10]"
      ],
      "metadata": {
        "colab": {
          "base_uri": "https://localhost:8080/"
        },
        "id": "Hbnh1Cy-2DtX",
        "outputId": "9e4d12e5-985f-4538-a39b-f2dd8f20ce08"
      },
      "execution_count": null,
      "outputs": [
        {
          "output_type": "execute_result",
          "data": {
            "text/plain": [
              "['rupestrine',\n",
              " 'sawfish',\n",
              " 'calumny',\n",
              " 'carburize',\n",
              " 'outvictor',\n",
              " 'scupper',\n",
              " 'crin',\n",
              " 'pursy',\n",
              " 'chalicotherium',\n",
              " 'leucocythemia']"
            ]
          },
          "metadata": {},
          "execution_count": 4
        }
      ]
    },
    {
      "cell_type": "markdown",
      "source": [
        "2. The words are not sorted by any apparent pattern."
      ],
      "metadata": {
        "id": "vQtFxtPm20Ws"
      }
    },
    {
      "cell_type": "code",
      "source": [
        "#Making a new list in alphabetical order and printing the first ten terms\n",
        "alpha_list = sorted(wordlist)\n",
        "alpha_list[0:10]"
      ],
      "metadata": {
        "colab": {
          "base_uri": "https://localhost:8080/"
        },
        "id": "yvh8uefA28KQ",
        "outputId": "430bcebb-d5ee-42f4-d1b6-ecc185911d16"
      },
      "execution_count": null,
      "outputs": [
        {
          "output_type": "execute_result",
          "data": {
            "text/plain": [
              "['a',\n",
              " 'aa',\n",
              " 'aal',\n",
              " 'aalii',\n",
              " 'aam',\n",
              " 'aani',\n",
              " 'aardvark',\n",
              " 'aardwolf',\n",
              " 'aaron',\n",
              " 'aaronic']"
            ]
          },
          "metadata": {},
          "execution_count": 5
        }
      ]
    },
    {
      "cell_type": "code",
      "source": [
        "#Making a new list of only the terms that start with 'a' and then finding the length\n",
        "a_list = list()\n",
        "for word in alpha_list:\n",
        "  if word.startswith('a'):\n",
        "    a_list.append(word)\n",
        "print(len(a_list))"
      ],
      "metadata": {
        "colab": {
          "base_uri": "https://localhost:8080/"
        },
        "id": "h3Ec4j_I3o71",
        "outputId": "1c1ed506-77b4-4b94-f11e-d1db8e13c573"
      },
      "execution_count": null,
      "outputs": [
        {
          "output_type": "stream",
          "name": "stdout",
          "text": [
            "16982\n"
          ]
        }
      ]
    },
    {
      "cell_type": "code",
      "source": [
        "#Making a new list of only the terms that contain 'q'\n",
        "q_contained = list()\n",
        "for word in alpha_list:\n",
        "  if 'q'in word:\n",
        "    q_contained.append(word)\n",
        "print(len(q_contained))\n",
        "#Creating a list of words without an 'e' in them and converting the percentage to a fraction\n",
        "no_e = list()\n",
        "for word in alpha_list:\n",
        "  if 'e' not in word:\n",
        "    no_e.append(word)\n",
        "from fractions import Fraction\n",
        "print(Fraction(len(no_e)/len(alpha_list)))"
      ],
      "metadata": {
        "colab": {
          "base_uri": "https://localhost:8080/"
        },
        "id": "FNIWqy7f7KY_",
        "outputId": "d6dd6456-2d5f-4118-a6e4-bccb68059f50"
      },
      "execution_count": null,
      "outputs": [
        {
          "output_type": "stream",
          "name": "stdout",
          "text": [
            "3624\n",
            "1478456169418629/4503599627370496\n"
          ]
        }
      ]
    },
    {
      "cell_type": "code",
      "source": [
        "import numpy as np\n",
        "#converting the alphabetized list to a numpy array\n",
        "alpha_array = np.array(alpha_list)\n",
        "alphabet = [chr(i) for i in range(ord('a'),ord('z')+1)]"
      ],
      "metadata": {
        "id": "A8uxtQ1u87tG"
      },
      "execution_count": null,
      "outputs": []
    },
    {
      "cell_type": "markdown",
      "source": [
        "The line of code copied in from the assignment assigns letters as strings to integers."
      ],
      "metadata": {
        "id": "IGrLPLbjQuJI"
      }
    },
    {
      "cell_type": "code",
      "source": [
        "a = list()\n",
        "for word in wordlist:\n",
        "   if word.startswith('a'):\n",
        "    a.append(word)\n",
        "b = list()\n",
        "for word in wordlist:\n",
        "   if word.startswith('b'):\n",
        "    b.append(word)\n",
        "c = list()\n",
        "for word in wordlist:\n",
        "   if word.startswith('c'):\n",
        "    c.append(word)\n",
        "d = list()\n",
        "for word in wordlist:\n",
        "   if word.startswith('d'):\n",
        "    d.append(word)\n",
        "e = list()\n",
        "for word in wordlist:\n",
        "   if word.startswith('e'):\n",
        "    e.append(word)\n",
        "f = list()\n",
        "for word in wordlist:\n",
        "   if word.startswith('f'):\n",
        "    f.append(word)\n",
        "g = list()\n",
        "for word in wordlist:\n",
        "   if word.startswith('g'):\n",
        "    g.append(word)\n",
        "h = list()\n",
        "for word in wordlist:\n",
        "   if word.startswith('h'):\n",
        "    h.append(word)\n",
        "i = list()\n",
        "for word in wordlist:\n",
        "   if word.startswith('i'):\n",
        "    i.append(word)\n",
        "j = list()\n",
        "for word in wordlist:\n",
        "   if word.startswith('j'):\n",
        "    j.append(word)\n",
        "k = list()\n",
        "for word in wordlist:\n",
        "   if word.startswith('k'):\n",
        "    k.append(word)\n",
        "l= list()\n",
        "for word in wordlist:\n",
        "   if word.startswith('l'):\n",
        "    l.append(word)\n",
        "m = list()\n",
        "for word in wordlist:\n",
        "   if word.startswith('m'):\n",
        "    m.append(word)\n",
        "n = list()\n",
        "for word in wordlist:\n",
        "   if word.startswith('n'):\n",
        "    n.append(word)\n",
        "o = list()\n",
        "for word in wordlist:\n",
        "   if word.startswith('o'):\n",
        "    o.append(word)\n",
        "p = list()\n",
        "for word in wordlist:\n",
        "   if word.startswith('p'):\n",
        "    p.append(word)\n",
        "q= list()\n",
        "for word in wordlist:\n",
        "   if word.startswith('q'):\n",
        "    q.append(word)\n",
        "r = list()\n",
        "for word in wordlist:\n",
        "   if word.startswith('r'):\n",
        "    r.append(word)\n",
        "s = list()\n",
        "for word in wordlist:\n",
        "   if word.startswith('s'):\n",
        "    s.append(word)\n",
        "t = list()\n",
        "for word in wordlist:\n",
        "   if word.startswith('t'):\n",
        "    t.append(word)\n",
        "u = list()\n",
        "for word in wordlist:\n",
        "   if word.startswith('u'):\n",
        "    u.append(word)\n",
        "v = list()\n",
        "for word in wordlist:\n",
        "   if word.startswith('v'):\n",
        "    v.append(word)\n",
        "w = list()\n",
        "for word in wordlist:\n",
        "   if word.startswith('w'):\n",
        "    w.append(word)\n",
        "x = list()\n",
        "for word in wordlist:\n",
        "   if word.startswith('x'):\n",
        "    x.append(word)\n",
        "y = list()\n",
        "for word in wordlist:\n",
        "   if word.startswith('y'):\n",
        "    y.append(word)\n",
        "z = list()\n",
        "for word in wordlist:\n",
        "   if word.startswith('z'):\n",
        "    z.append(word)\n",
        "first_count = [len(a),len(b),len(c),len(d),len(e),len(f),len(g),len(h),len(i),len(j),len(k),len(l),len(m),len(n),len(o),len(p),len(q),len(r),len(s),len(t),len(u),len(v),len(w),len(x),len(y),len(z)]\n",
        "len(first_count)"
      ],
      "metadata": {
        "colab": {
          "base_uri": "https://localhost:8080/"
        },
        "id": "l9Q7KtAyRB86",
        "outputId": "4bace80b-1d05-40bc-c2f7-67200eb6597a"
      },
      "execution_count": null,
      "outputs": [
        {
          "output_type": "execute_result",
          "data": {
            "text/plain": [
              "26"
            ]
          },
          "metadata": {},
          "execution_count": 9
        }
      ]
    },
    {
      "cell_type": "code",
      "source": [
        "import matplotlib.pyplot as plt\n",
        "alphabet_list = ['a','b','c','d','e','f','g','h','i','j','k','l','m','n','o','p','q','r','s','t','u','v','w','x','y','z']\n",
        "plt.bar(alphabet_list,first_count)\n",
        "plt.xlabel('Letter')\n",
        "plt.ylabel('Count')\n",
        "plt.title('# Of Words Starting With Each Letter')"
      ],
      "metadata": {
        "colab": {
          "base_uri": "https://localhost:8080/",
          "height": 489
        },
        "id": "VKDGZsbDvxH6",
        "outputId": "8cac8b7e-b980-4128-a513-75c1e306780e"
      },
      "execution_count": null,
      "outputs": [
        {
          "output_type": "execute_result",
          "data": {
            "text/plain": [
              "Text(0.5, 1.0, '# Of Words Starting With Each Letter')"
            ]
          },
          "metadata": {},
          "execution_count": 10
        },
        {
          "output_type": "display_data",
          "data": {
            "text/plain": [
              "<Figure size 640x480 with 1 Axes>"
            ],
            "image/png": "[encoded data removed]"
          },
          "metadata": {}
        }
      ]
    },
    {
      "cell_type": "code",
      "source": [
        "#Printing the six longest words on the list\n",
        "length_sort = sorted(wordlist,key=len)\n",
        "print(length_sort[len(length_sort)-6:])"
      ],
      "metadata": {
        "colab": {
          "base_uri": "https://localhost:8080/"
        },
        "id": "b4XvRo2xzsMi",
        "outputId": "0334f563-1b27-4c66-f2bf-e6abd84d3528"
      },
      "execution_count": null,
      "outputs": [
        {
          "output_type": "stream",
          "name": "stdout",
          "text": [
            "['tetraiodophenolphthalein', 'pathologicopsychological', 'formaldehydesulphoxylate', 'thyroparathyroidectomize', 'scientificophilosophical', 'antidisestablishmentarianism']\n"
          ]
        }
      ]
    },
    {
      "cell_type": "code",
      "source": [
        "#Plotting a histogram based on word length\n",
        "#Create a list of the word lengths in wordlist\n",
        "lengths = list()\n",
        "for i in wordlist:\n",
        "  ind_length = len(i)\n",
        "  lengths.append(ind_length)\n",
        "#Find the necessary number of bins --> 28\n",
        "print(max(lengths))\n",
        "#Plot the histogram\n",
        "plt.hist(lengths,bins=28)\n",
        "plt.xlabel(\"# of Letters\")\n",
        "plt.ylabel(\"# of Words\")\n",
        "plt.title(\"Count for each Word Length\")"
      ],
      "metadata": {
        "colab": {
          "base_uri": "https://localhost:8080/",
          "height": 507
        },
        "id": "712AIwPa02Su",
        "outputId": "67f376d3-e72b-4a49-ebd9-2d29fa2a8dea"
      },
      "execution_count": null,
      "outputs": [
        {
          "output_type": "stream",
          "name": "stdout",
          "text": [
            "28\n"
          ]
        },
        {
          "output_type": "execute_result",
          "data": {
            "text/plain": [
              "Text(0.5, 1.0, 'Count for each Word Length')"
            ]
          },
          "metadata": {},
          "execution_count": 21
        },
        {
          "output_type": "display_data",
          "data": {
            "text/plain": [
              "<Figure size 640x480 with 1 Axes>"
            ],
            "image/png": "[encoded data removed]"
          },
          "metadata": {}
        }
      ]
    },
    {
      "cell_type": "code",
      "source": [
        "va_words = list()\n",
        "for word in wordlist:\n",
        "  if 'v'and 'a' in word:\n",
        "    va_words.append(word)\n",
        "len(va_words)\n",
        "#There are 144548 words with V and A in them\n",
        "wl_words = list()\n",
        "for word in wordlist:\n",
        "  if 'w'and 'l' in word:\n",
        "    wl_words.append(word)\n",
        "len(wl_words)\n",
        "#There are 105022 words with W and L in them\n",
        "#Loop through once for each condition, takes 0s\n"
      ],
      "metadata": {
        "colab": {
          "base_uri": "https://localhost:8080/"
        },
        "id": "GDsSj0lFf_Ee",
        "outputId": "eb78d247-8c32-4712-fc9f-562c2fbc4449"
      },
      "execution_count": null,
      "outputs": [
        {
          "output_type": "execute_result",
          "data": {
            "text/plain": [
              "105022"
            ]
          },
          "metadata": {},
          "execution_count": 25
        }
      ]
    }
  ]
}